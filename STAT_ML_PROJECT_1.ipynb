{
  "nbformat": 4,
  "nbformat_minor": 0,
  "metadata": {
    "colab": {
      "provenance": [],
      "toc_visible": true
    },
    "kernelspec": {
      "name": "python3",
      "display_name": "Python 3"
    },
    "language_info": {
      "name": "python"
    }
  },
  "cells": [
    {
      "cell_type": "code",
      "source": [
        "import numpy as np\n",
        "import pandas as pd\n",
        "import matplotlib.pyplot as plt\n",
        "import pandas.util.testing as tm\n",
        "from sklearn import preprocessing,svm\n",
        "from sklearn.model_selection import train_test_split\n",
        "from sklearn.linear_model import LinearRegression"
      ],
      "metadata": {
        "colab": {
          "base_uri": "https://localhost:8080/"
        },
        "id": "4ySFk1_iOPcD",
        "outputId": "3e7b1fc0-2826-4b22-d736-ac8896d1ccb4"
      },
      "execution_count": null,
      "outputs": [
        {
          "output_type": "stream",
          "name": "stderr",
          "text": [
            "<ipython-input-2-21b65ce220ad>:4: FutureWarning: pandas.util.testing is deprecated. Use the functions in the public API at pandas.testing instead.\n",
            "  import pandas.util.testing as tm\n"
          ]
        }
      ]
    },
    {
      "cell_type": "code",
      "source": [
        "d=pd.read_csv('/content/ADANIPORTS_new.csv')"
      ],
      "metadata": {
        "id": "Wzn96qmlOd80"
      },
      "execution_count": null,
      "outputs": []
    },
    {
      "cell_type": "code",
      "source": [
        "d"
      ],
      "metadata": {
        "colab": {
          "base_uri": "https://localhost:8080/",
          "height": 852
        },
        "id": "xELyKwjTOrQp",
        "outputId": "d81976e6-99e9-4243-fe76-62e8c828133d"
      },
      "execution_count": null,
      "outputs": [
        {
          "output_type": "execute_result",
          "data": {
            "text/plain": [
              "            Date      Symbol Series  Prev Close   Open    High     Low   Last  \\\n",
              "0     17-01-2012  ADANIPORTS     EQ      135.50  137.1  141.00  135.00  140.1   \n",
              "1     18-01-2012  ADANIPORTS     EQ      140.00  142.0  143.80  138.70  143.0   \n",
              "2     19-01-2012  ADANIPORTS     EQ      141.70  144.0  150.55  143.15  149.5   \n",
              "3     20-01-2012  ADANIPORTS     EQ      149.40  151.9  157.60  150.25  155.4   \n",
              "4     23-01-2012  ADANIPORTS     EQ      155.40  155.4  155.40  145.10  146.4   \n",
              "...          ...         ...    ...         ...    ...     ...     ...    ...   \n",
              "2294  26-04-2021  ADANIPORTS     EQ      725.35  733.0  739.65  728.90  729.2   \n",
              "2295  27-04-2021  ADANIPORTS     EQ      730.75  735.0  757.50  727.35  748.6   \n",
              "2296  28-04-2021  ADANIPORTS     EQ      749.15  755.0  760.00  741.10  743.4   \n",
              "2297  29-04-2021  ADANIPORTS     EQ      746.25  753.2  765.85  743.40  746.4   \n",
              "2298  30-04-2021  ADANIPORTS     EQ      746.75  739.0  759.45  724.50  726.4   \n",
              "\n",
              "       Close    VWAP    Volume      Turnover  Trades  Deliverable Volume  \\\n",
              "0     140.00  138.13   1636196  2.260000e+13   18374             1004327   \n",
              "1     141.70  141.25    890591  1.260000e+13   15615              404925   \n",
              "2     149.40  146.72   1456077  2.140000e+13   31299              721545   \n",
              "3     155.40  153.76   1634070  2.510000e+13   23335              861145   \n",
              "4     146.75  149.54   1657609  2.480000e+13   12400              820653   \n",
              "...      ...     ...       ...           ...     ...                 ...   \n",
              "2294  730.75  733.25   9390549  6.890000e+14  116457              838079   \n",
              "2295  749.15  747.67  20573107  1.540000e+15  236896             1779639   \n",
              "2296  746.25  751.02  11156977  8.380000e+14  130847             1342353   \n",
              "2297  746.75  753.06  13851910  1.040000e+15  153293             1304895   \n",
              "2298  730.05  743.35  12600934  9.370000e+14  132141             3514692   \n",
              "\n",
              "      %Deliverble  \n",
              "0          0.6138  \n",
              "1          0.4547  \n",
              "2          0.4955  \n",
              "3          0.5270  \n",
              "4          0.4951  \n",
              "...           ...  \n",
              "2294       0.0892  \n",
              "2295       0.0865  \n",
              "2296       0.1203  \n",
              "2297       0.0942  \n",
              "2298       0.2789  \n",
              "\n",
              "[2299 rows x 15 columns]"
            ],
            "text/html": [
              "\n",
              "  <div id=\"df-7de72e18-aec8-4506-9e0f-63dfb9893bc8\">\n",
              "    <div class=\"colab-df-container\">\n",
              "      <div>\n",
              "<style scoped>\n",
              "    .dataframe tbody tr th:only-of-type {\n",
              "        vertical-align: middle;\n",
              "    }\n",
              "\n",
              "    .dataframe tbody tr th {\n",
              "        vertical-align: top;\n",
              "    }\n",
              "\n",
              "    .dataframe thead th {\n",
              "        text-align: right;\n",
              "    }\n",
              "</style>\n",
              "<table border=\"1\" class=\"dataframe\">\n",
              "  <thead>\n",
              "    <tr style=\"text-align: right;\">\n",
              "      <th></th>\n",
              "      <th>Date</th>\n",
              "      <th>Symbol</th>\n",
              "      <th>Series</th>\n",
              "      <th>Prev Close</th>\n",
              "      <th>Open</th>\n",
              "      <th>High</th>\n",
              "      <th>Low</th>\n",
              "      <th>Last</th>\n",
              "      <th>Close</th>\n",
              "      <th>VWAP</th>\n",
              "      <th>Volume</th>\n",
              "      <th>Turnover</th>\n",
              "      <th>Trades</th>\n",
              "      <th>Deliverable Volume</th>\n",
              "      <th>%Deliverble</th>\n",
              "    </tr>\n",
              "  </thead>\n",
              "  <tbody>\n",
              "    <tr>\n",
              "      <th>0</th>\n",
              "      <td>17-01-2012</td>\n",
              "      <td>ADANIPORTS</td>\n",
              "      <td>EQ</td>\n",
              "      <td>135.50</td>\n",
              "      <td>137.1</td>\n",
              "      <td>141.00</td>\n",
              "      <td>135.00</td>\n",
              "      <td>140.1</td>\n",
              "      <td>140.00</td>\n",
              "      <td>138.13</td>\n",
              "      <td>1636196</td>\n",
              "      <td>2.260000e+13</td>\n",
              "      <td>18374</td>\n",
              "      <td>1004327</td>\n",
              "      <td>0.6138</td>\n",
              "    </tr>\n",
              "    <tr>\n",
              "      <th>1</th>\n",
              "      <td>18-01-2012</td>\n",
              "      <td>ADANIPORTS</td>\n",
              "      <td>EQ</td>\n",
              "      <td>140.00</td>\n",
              "      <td>142.0</td>\n",
              "      <td>143.80</td>\n",
              "      <td>138.70</td>\n",
              "      <td>143.0</td>\n",
              "      <td>141.70</td>\n",
              "      <td>141.25</td>\n",
              "      <td>890591</td>\n",
              "      <td>1.260000e+13</td>\n",
              "      <td>15615</td>\n",
              "      <td>404925</td>\n",
              "      <td>0.4547</td>\n",
              "    </tr>\n",
              "    <tr>\n",
              "      <th>2</th>\n",
              "      <td>19-01-2012</td>\n",
              "      <td>ADANIPORTS</td>\n",
              "      <td>EQ</td>\n",
              "      <td>141.70</td>\n",
              "      <td>144.0</td>\n",
              "      <td>150.55</td>\n",
              "      <td>143.15</td>\n",
              "      <td>149.5</td>\n",
              "      <td>149.40</td>\n",
              "      <td>146.72</td>\n",
              "      <td>1456077</td>\n",
              "      <td>2.140000e+13</td>\n",
              "      <td>31299</td>\n",
              "      <td>721545</td>\n",
              "      <td>0.4955</td>\n",
              "    </tr>\n",
              "    <tr>\n",
              "      <th>3</th>\n",
              "      <td>20-01-2012</td>\n",
              "      <td>ADANIPORTS</td>\n",
              "      <td>EQ</td>\n",
              "      <td>149.40</td>\n",
              "      <td>151.9</td>\n",
              "      <td>157.60</td>\n",
              "      <td>150.25</td>\n",
              "      <td>155.4</td>\n",
              "      <td>155.40</td>\n",
              "      <td>153.76</td>\n",
              "      <td>1634070</td>\n",
              "      <td>2.510000e+13</td>\n",
              "      <td>23335</td>\n",
              "      <td>861145</td>\n",
              "      <td>0.5270</td>\n",
              "    </tr>\n",
              "    <tr>\n",
              "      <th>4</th>\n",
              "      <td>23-01-2012</td>\n",
              "      <td>ADANIPORTS</td>\n",
              "      <td>EQ</td>\n",
              "      <td>155.40</td>\n",
              "      <td>155.4</td>\n",
              "      <td>155.40</td>\n",
              "      <td>145.10</td>\n",
              "      <td>146.4</td>\n",
              "      <td>146.75</td>\n",
              "      <td>149.54</td>\n",
              "      <td>1657609</td>\n",
              "      <td>2.480000e+13</td>\n",
              "      <td>12400</td>\n",
              "      <td>820653</td>\n",
              "      <td>0.4951</td>\n",
              "    </tr>\n",
              "    <tr>\n",
              "      <th>...</th>\n",
              "      <td>...</td>\n",
              "      <td>...</td>\n",
              "      <td>...</td>\n",
              "      <td>...</td>\n",
              "      <td>...</td>\n",
              "      <td>...</td>\n",
              "      <td>...</td>\n",
              "      <td>...</td>\n",
              "      <td>...</td>\n",
              "      <td>...</td>\n",
              "      <td>...</td>\n",
              "      <td>...</td>\n",
              "      <td>...</td>\n",
              "      <td>...</td>\n",
              "      <td>...</td>\n",
              "    </tr>\n",
              "    <tr>\n",
              "      <th>2294</th>\n",
              "      <td>26-04-2021</td>\n",
              "      <td>ADANIPORTS</td>\n",
              "      <td>EQ</td>\n",
              "      <td>725.35</td>\n",
              "      <td>733.0</td>\n",
              "      <td>739.65</td>\n",
              "      <td>728.90</td>\n",
              "      <td>729.2</td>\n",
              "      <td>730.75</td>\n",
              "      <td>733.25</td>\n",
              "      <td>9390549</td>\n",
              "      <td>6.890000e+14</td>\n",
              "      <td>116457</td>\n",
              "      <td>838079</td>\n",
              "      <td>0.0892</td>\n",
              "    </tr>\n",
              "    <tr>\n",
              "      <th>2295</th>\n",
              "      <td>27-04-2021</td>\n",
              "      <td>ADANIPORTS</td>\n",
              "      <td>EQ</td>\n",
              "      <td>730.75</td>\n",
              "      <td>735.0</td>\n",
              "      <td>757.50</td>\n",
              "      <td>727.35</td>\n",
              "      <td>748.6</td>\n",
              "      <td>749.15</td>\n",
              "      <td>747.67</td>\n",
              "      <td>20573107</td>\n",
              "      <td>1.540000e+15</td>\n",
              "      <td>236896</td>\n",
              "      <td>1779639</td>\n",
              "      <td>0.0865</td>\n",
              "    </tr>\n",
              "    <tr>\n",
              "      <th>2296</th>\n",
              "      <td>28-04-2021</td>\n",
              "      <td>ADANIPORTS</td>\n",
              "      <td>EQ</td>\n",
              "      <td>749.15</td>\n",
              "      <td>755.0</td>\n",
              "      <td>760.00</td>\n",
              "      <td>741.10</td>\n",
              "      <td>743.4</td>\n",
              "      <td>746.25</td>\n",
              "      <td>751.02</td>\n",
              "      <td>11156977</td>\n",
              "      <td>8.380000e+14</td>\n",
              "      <td>130847</td>\n",
              "      <td>1342353</td>\n",
              "      <td>0.1203</td>\n",
              "    </tr>\n",
              "    <tr>\n",
              "      <th>2297</th>\n",
              "      <td>29-04-2021</td>\n",
              "      <td>ADANIPORTS</td>\n",
              "      <td>EQ</td>\n",
              "      <td>746.25</td>\n",
              "      <td>753.2</td>\n",
              "      <td>765.85</td>\n",
              "      <td>743.40</td>\n",
              "      <td>746.4</td>\n",
              "      <td>746.75</td>\n",
              "      <td>753.06</td>\n",
              "      <td>13851910</td>\n",
              "      <td>1.040000e+15</td>\n",
              "      <td>153293</td>\n",
              "      <td>1304895</td>\n",
              "      <td>0.0942</td>\n",
              "    </tr>\n",
              "    <tr>\n",
              "      <th>2298</th>\n",
              "      <td>30-04-2021</td>\n",
              "      <td>ADANIPORTS</td>\n",
              "      <td>EQ</td>\n",
              "      <td>746.75</td>\n",
              "      <td>739.0</td>\n",
              "      <td>759.45</td>\n",
              "      <td>724.50</td>\n",
              "      <td>726.4</td>\n",
              "      <td>730.05</td>\n",
              "      <td>743.35</td>\n",
              "      <td>12600934</td>\n",
              "      <td>9.370000e+14</td>\n",
              "      <td>132141</td>\n",
              "      <td>3514692</td>\n",
              "      <td>0.2789</td>\n",
              "    </tr>\n",
              "  </tbody>\n",
              "</table>\n",
              "<p>2299 rows × 15 columns</p>\n",
              "</div>\n",
              "      <button class=\"colab-df-convert\" onclick=\"convertToInteractive('df-7de72e18-aec8-4506-9e0f-63dfb9893bc8')\"\n",
              "              title=\"Convert this dataframe to an interactive table.\"\n",
              "              style=\"display:none;\">\n",
              "        \n",
              "  <svg xmlns=\"http://www.w3.org/2000/svg\" height=\"24px\"viewBox=\"0 0 24 24\"\n",
              "       width=\"24px\">\n",
              "    <path d=\"M0 0h24v24H0V0z\" fill=\"none\"/>\n",
              "    <path d=\"M18.56 5.44l.94 2.06.94-2.06 2.06-.94-2.06-.94-.94-2.06-.94 2.06-2.06.94zm-11 1L8.5 8.5l.94-2.06 2.06-.94-2.06-.94L8.5 2.5l-.94 2.06-2.06.94zm10 10l.94 2.06.94-2.06 2.06-.94-2.06-.94-.94-2.06-.94 2.06-2.06.94z\"/><path d=\"M17.41 7.96l-1.37-1.37c-.4-.4-.92-.59-1.43-.59-.52 0-1.04.2-1.43.59L10.3 9.45l-7.72 7.72c-.78.78-.78 2.05 0 2.83L4 21.41c.39.39.9.59 1.41.59.51 0 1.02-.2 1.41-.59l7.78-7.78 2.81-2.81c.8-.78.8-2.07 0-2.86zM5.41 20L4 18.59l7.72-7.72 1.47 1.35L5.41 20z\"/>\n",
              "  </svg>\n",
              "      </button>\n",
              "      \n",
              "  <style>\n",
              "    .colab-df-container {\n",
              "      display:flex;\n",
              "      flex-wrap:wrap;\n",
              "      gap: 12px;\n",
              "    }\n",
              "\n",
              "    .colab-df-convert {\n",
              "      background-color: #E8F0FE;\n",
              "      border: none;\n",
              "      border-radius: 50%;\n",
              "      cursor: pointer;\n",
              "      display: none;\n",
              "      fill: #1967D2;\n",
              "      height: 32px;\n",
              "      padding: 0 0 0 0;\n",
              "      width: 32px;\n",
              "    }\n",
              "\n",
              "    .colab-df-convert:hover {\n",
              "      background-color: #E2EBFA;\n",
              "      box-shadow: 0px 1px 2px rgba(60, 64, 67, 0.3), 0px 1px 3px 1px rgba(60, 64, 67, 0.15);\n",
              "      fill: #174EA6;\n",
              "    }\n",
              "\n",
              "    [theme=dark] .colab-df-convert {\n",
              "      background-color: #3B4455;\n",
              "      fill: #D2E3FC;\n",
              "    }\n",
              "\n",
              "    [theme=dark] .colab-df-convert:hover {\n",
              "      background-color: #434B5C;\n",
              "      box-shadow: 0px 1px 3px 1px rgba(0, 0, 0, 0.15);\n",
              "      filter: drop-shadow(0px 1px 2px rgba(0, 0, 0, 0.3));\n",
              "      fill: #FFFFFF;\n",
              "    }\n",
              "  </style>\n",
              "\n",
              "      <script>\n",
              "        const buttonEl =\n",
              "          document.querySelector('#df-7de72e18-aec8-4506-9e0f-63dfb9893bc8 button.colab-df-convert');\n",
              "        buttonEl.style.display =\n",
              "          google.colab.kernel.accessAllowed ? 'block' : 'none';\n",
              "\n",
              "        async function convertToInteractive(key) {\n",
              "          const element = document.querySelector('#df-7de72e18-aec8-4506-9e0f-63dfb9893bc8');\n",
              "          const dataTable =\n",
              "            await google.colab.kernel.invokeFunction('convertToInteractive',\n",
              "                                                     [key], {});\n",
              "          if (!dataTable) return;\n",
              "\n",
              "          const docLinkHtml = 'Like what you see? Visit the ' +\n",
              "            '<a target=\"_blank\" href=https://colab.research.google.com/notebooks/data_table.ipynb>data table notebook</a>'\n",
              "            + ' to learn more about interactive tables.';\n",
              "          element.innerHTML = '';\n",
              "          dataTable['output_type'] = 'display_data';\n",
              "          await google.colab.output.renderOutput(dataTable, element);\n",
              "          const docLink = document.createElement('div');\n",
              "          docLink.innerHTML = docLinkHtml;\n",
              "          element.appendChild(docLink);\n",
              "        }\n",
              "      </script>\n",
              "    </div>\n",
              "  </div>\n",
              "  "
            ]
          },
          "metadata": {},
          "execution_count": 5
        }
      ]
    },
    {
      "cell_type": "code",
      "source": [
        "#Calculating the datasets for 70% train and 30% test\n",
        "\n",
        "#models for 70% train and 30% test\n",
        "X=np.array(d['Close']).reshape(-1,1)\n",
        "y=np.array(d['Turnover']).reshape(-1,1)\n",
        "X_train,X_test,y_train,y_test=train_test_split(X,y,train_size=0.70,test_size=0.3,random_state=0)\n",
        "regr=LinearRegression()\n",
        "regr.fit(X_train,y_train)\n",
        "X_train.shape\n",
        "y_train.shape"
      ],
      "metadata": {
        "colab": {
          "base_uri": "https://localhost:8080/"
        },
        "id": "y3lGkQkQO5XL",
        "outputId": "88ad6ded-febe-4545-be72-216ec85524aa"
      },
      "execution_count": null,
      "outputs": [
        {
          "output_type": "execute_result",
          "data": {
            "text/plain": [
              "(1609, 1)"
            ]
          },
          "metadata": {},
          "execution_count": 6
        }
      ]
    },
    {
      "cell_type": "code",
      "source": [
        "#predicting the test result and visualizing the test result\n",
        "y_pred=regr.predict(X_test)\n",
        "y_pred\n",
        "plt.scatter(X_test,y_test,color='orange')\n",
        "plt.plot(X_test,regr.predict(X_test),color='black')\n",
        "plt.title('Close vs Turnover (Test Data 30%)')\n",
        "plt.xlabel('Turnover')\n",
        "plt.ylabel('Close')\n",
        "plt.show()"
      ],
      "metadata": {
        "colab": {
          "base_uri": "https://localhost:8080/",
          "height": 295
        },
        "id": "c1S-vKHUTnMR",
        "outputId": "0ac9b774-fab7-45ec-fd12-c021dda9d28a"
      },
      "execution_count": null,
      "outputs": [
        {
          "output_type": "display_data",
          "data": {
            "text/plain": [
              "<Figure size 432x288 with 1 Axes>"
            ],
            "image/png": "[encoded data removed]"
          },
          "metadata": {
            "needs_background": "light"
          }
        }
      ]
    },
    {
      "cell_type": "code",
      "source": [
        "#predicting the train result and visualizing the results\n",
        "X_pred = regr.predict(X_train)\n",
        "X_pred\n",
        "plt.scatter(X_train,y_train,color='brown')\n",
        "plt.plot(X_train,regr.predict(X_train),color='black')\n",
        "plt.title('Close vs Turnover(Train data 70%)')\n",
        "plt.xlabel('Turnover')\n",
        "plt.ylabel('Close')\n",
        "plt.show()"
      ],
      "metadata": {
        "colab": {
          "base_uri": "https://localhost:8080/",
          "height": 295
        },
        "id": "uDPvobDIU9j2",
        "outputId": "8b236869-9950-4f62-fa4b-a763e49cfd79"
      },
      "execution_count": null,
      "outputs": [
        {
          "output_type": "display_data",
          "data": {
            "text/plain": [
              "<Figure size 432x288 with 1 Axes>"
            ],
            "image/png": "[encoded data removed]"
          },
          "metadata": {
            "needs_background": "light"
          }
        }
      ]
    },
    {
      "cell_type": "code",
      "source": [
        "#Calculating the Mean squared error\n",
        "MSE = np.square(np.subtract(y_test,y_pred)).mean()\n",
        "print(\"Mean squared error of dataset is \",MSE)"
      ],
      "metadata": {
        "colab": {
          "base_uri": "https://localhost:8080/"
        },
        "id": "jN-6LBOUZd8h",
        "outputId": "f22c08a6-4b40-49ef-e8e5-56a7efafbab0"
      },
      "execution_count": null,
      "outputs": [
        {
          "output_type": "stream",
          "name": "stdout",
          "text": [
            "Mean squared error of dataset is  3.0588468344214594e+28\n"
          ]
        }
      ]
    },
    {
      "cell_type": "code",
      "source": [
        "#Calculating the datasets for 80% train and 20% test\n",
        "\n",
        "#models for 75% train and 25% test\n",
        "X=np.array(d['Turnover']).reshape(-1,1)\n",
        "y=np.array(d['Close']).reshape(-1,1)\n",
        "X_train,X_test,y_train,y_test=train_test_split(X,y,train_size=0.8,test_size=0.2,random_state=0)\n",
        "regr=LinearRegression()\n",
        "regr.fit(X_train,y_train)\n",
        "X_train.shape\n",
        "y_train.shape"
      ],
      "metadata": {
        "colab": {
          "base_uri": "https://localhost:8080/"
        },
        "id": "q_chzOcHZiGK",
        "outputId": "2d04a997-ba1c-44a6-ffc5-e446ca6e1db7"
      },
      "execution_count": null,
      "outputs": [
        {
          "output_type": "execute_result",
          "data": {
            "text/plain": [
              "(1839, 1)"
            ]
          },
          "metadata": {},
          "execution_count": 10
        }
      ]
    },
    {
      "cell_type": "code",
      "source": [
        "#predicting the test result and visualizing the test result\n",
        "y_pred=regr.predict(X_test)\n",
        "y_pred\n",
        "plt.scatter(X_test,y_test,color='orange')\n",
        "plt.plot(X_test,regr.predict(X_test),color='black')\n",
        "plt.title('Close vs Turnover (Test Data 20%)')\n",
        "plt.xlabel('Turnover')\n",
        "plt.ylabel('Close')\n",
        "plt.show()"
      ],
      "metadata": {
        "colab": {
          "base_uri": "https://localhost:8080/",
          "height": 295
        },
        "id": "FMf6tT3EbrC4",
        "outputId": "28871c1c-eefc-4d1e-da2b-7dc9618b6a1b"
      },
      "execution_count": null,
      "outputs": [
        {
          "output_type": "display_data",
          "data": {
            "text/plain": [
              "<Figure size 432x288 with 1 Axes>"
            ],
            "image/png": "[encoded data removed]"
          },
          "metadata": {
            "needs_background": "light"
          }
        }
      ]
    },
    {
      "cell_type": "code",
      "source": [
        "#predicting the train result and visualizing the results\n",
        "X_pred = regr.predict(X_train)\n",
        "X_pred\n",
        "plt.scatter(X_train,y_train,color='brown')\n",
        "plt.plot(X_train,regr.predict(X_train),color='black')\n",
        "plt.title('Close vs Turnover(Train data 80%)')\n",
        "plt.xlabel('Turnover')\n",
        "plt.ylabel('Close')\n",
        "plt.show()"
      ],
      "metadata": {
        "colab": {
          "base_uri": "https://localhost:8080/",
          "height": 295
        },
        "id": "dpWQgz9dcBzq",
        "outputId": "d0ce2460-dde7-4cd1-9b92-004fe02106bb"
      },
      "execution_count": null,
      "outputs": [
        {
          "output_type": "display_data",
          "data": {
            "text/plain": [
              "<Figure size 432x288 with 1 Axes>"
            ],
            "image/png": "[encoded data removed]"
          },
          "metadata": {
            "needs_background": "light"
          }
        }
      ]
    },
    {
      "cell_type": "code",
      "source": [
        "#Calculating the Mean squared error\n",
        "MSE = np.square(np.subtract(y_test,y_pred)).mean()\n",
        "print(\"Mean squared error of dataset is \",MSE)"
      ],
      "metadata": {
        "colab": {
          "base_uri": "https://localhost:8080/"
        },
        "id": "hbEttyixcFXF",
        "outputId": "e992e554-9808-4990-add6-c1a7feff4118"
      },
      "execution_count": null,
      "outputs": [
        {
          "output_type": "stream",
          "name": "stdout",
          "text": [
            "Mean squared error of dataset is  9404.75102469166\n"
          ]
        }
      ]
    },
    {
      "cell_type": "code",
      "source": [
        "#Calculating the datasets for 90% train and 10% test\n",
        "\n",
        "#models for 75% train and 25% test\n",
        "X=np.array(d['Turnover']).reshape(-1,1)\n",
        "y=np.array(d['Close']).reshape(-1,1)\n",
        "X_train,X_test,y_train,y_test=train_test_split(X,y,train_size=0.9,test_size=0.1,random_state=0)\n",
        "regr=LinearRegression()\n",
        "regr.fit(X_train,y_train)\n",
        "X_train.shape\n",
        "y_train.shape"
      ],
      "metadata": {
        "colab": {
          "base_uri": "https://localhost:8080/"
        },
        "id": "J0zkFmuPcLwQ",
        "outputId": "8a9d87be-27c8-474d-9d36-75dcf4d6abdd"
      },
      "execution_count": null,
      "outputs": [
        {
          "output_type": "execute_result",
          "data": {
            "text/plain": [
              "(2069, 1)"
            ]
          },
          "metadata": {},
          "execution_count": 14
        }
      ]
    },
    {
      "cell_type": "code",
      "source": [
        "#predicting the test result and visualizing the test result\n",
        "y_pred=regr.predict(X_test)\n",
        "y_pred\n",
        "plt.scatter(X_test,y_test,color='orange')\n",
        "plt.plot(X_test,regr.predict(X_test),color='black')\n",
        "plt.title('Close vs Turnover (Test Data 10%)')\n",
        "plt.xlabel('Turnover')\n",
        "plt.ylabel('Close')\n",
        "plt.show()"
      ],
      "metadata": {
        "colab": {
          "base_uri": "https://localhost:8080/",
          "height": 295
        },
        "id": "9teCqZS0cQ_A",
        "outputId": "f58bdc76-2487-442a-afbf-e458eda9f1e6"
      },
      "execution_count": null,
      "outputs": [
        {
          "output_type": "display_data",
          "data": {
            "text/plain": [
              "<Figure size 432x288 with 1 Axes>"
            ],
            "image/png": "[encoded data removed]"
          },
          "metadata": {
            "needs_background": "light"
          }
        }
      ]
    },
    {
      "cell_type": "code",
      "source": [
        "#predicting the train result and visualizing the results\n",
        "X_pred = regr.predict(X_train)\n",
        "X_pred\n",
        "plt.scatter(X_train,y_train,color='brown')\n",
        "plt.plot(X_train,regr.predict(X_train),color='black')\n",
        "plt.title('Close vs Turnover(Train data 90%)')\n",
        "plt.xlabel('Turnover')\n",
        "plt.ylabel('Close')\n",
        "plt.show()"
      ],
      "metadata": {
        "colab": {
          "base_uri": "https://localhost:8080/",
          "height": 295
        },
        "id": "3G-5AM0mcYwv",
        "outputId": "86f4ab15-ea3b-4ec2-bae8-1b9997bde809"
      },
      "execution_count": null,
      "outputs": [
        {
          "output_type": "display_data",
          "data": {
            "text/plain": [
              "<Figure size 432x288 with 1 Axes>"
            ],
            "image/png": "[encoded data removed]"
          },
          "metadata": {
            "needs_background": "light"
          }
        }
      ]
    },
    {
      "cell_type": "code",
      "source": [
        "#Calculating the Mean squared error\n",
        "MSE = np.square(np.subtract(y_test,y_pred)).mean()\n",
        "print(\"Mean squared error of dataset is \",MSE)"
      ],
      "metadata": {
        "colab": {
          "base_uri": "https://localhost:8080/"
        },
        "id": "uhXHj7-1cenI",
        "outputId": "f076eed1-1f2d-4961-cd8a-189749b941aa"
      },
      "execution_count": null,
      "outputs": [
        {
          "output_type": "stream",
          "name": "stdout",
          "text": [
            "Mean squared error of dataset is  9500.814403713559\n"
          ]
        }
      ]
    }
  ]
}